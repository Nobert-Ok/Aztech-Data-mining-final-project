{
  "nbformat": 4,
  "nbformat_minor": 0,
  "metadata": {
    "colab": {
      "name": "Final_deployment.ipynb",
      "provenance": []
    },
    "kernelspec": {
      "name": "python3",
      "display_name": "Python 3"
    },
    "language_info": {
      "name": "python"
    }
  },
  "cells": [
    {
      "cell_type": "code",
      "metadata": {
        "colab": {
          "base_uri": "https://localhost:8080/"
        },
        "id": "12_mrhJBsmdX",
        "outputId": "6a560530-1918-4eec-c9df-706f9891bdd4"
      },
      "source": [
        "from google.colab import drive\n",
        "drive.mount(\"/content/drive\")"
      ],
      "execution_count": 125,
      "outputs": [
        {
          "output_type": "stream",
          "text": [
            "Drive already mounted at /content/drive; to attempt to forcibly remount, call drive.mount(\"/content/drive\", force_remount=True).\n"
          ],
          "name": "stdout"
        }
      ]
    },
    {
      "cell_type": "code",
      "metadata": {
        "colab": {
          "base_uri": "https://localhost:8080/"
        },
        "id": "hDYzvgqTu5pq",
        "outputId": "a7fc858d-19d4-4ca5-b086-08bef4a25e51"
      },
      "source": [
        "!pip install numpy\n",
        "!pip install scikit-surprise"
      ],
      "execution_count": 126,
      "outputs": [
        {
          "output_type": "stream",
          "text": [
            "Requirement already satisfied: numpy in /usr/local/lib/python3.7/dist-packages (1.19.5)\n",
            "Requirement already satisfied: scikit-surprise in /usr/local/lib/python3.7/dist-packages (1.1.1)\n",
            "Requirement already satisfied: joblib>=0.11 in /usr/local/lib/python3.7/dist-packages (from scikit-surprise) (1.0.1)\n",
            "Requirement already satisfied: six>=1.10.0 in /usr/local/lib/python3.7/dist-packages (from scikit-surprise) (1.15.0)\n",
            "Requirement already satisfied: scipy>=1.0.0 in /usr/local/lib/python3.7/dist-packages (from scikit-surprise) (1.4.1)\n",
            "Requirement already satisfied: numpy>=1.11.2 in /usr/local/lib/python3.7/dist-packages (from scikit-surprise) (1.19.5)\n"
          ],
          "name": "stdout"
        }
      ]
    },
    {
      "cell_type": "code",
      "metadata": {
        "colab": {
          "base_uri": "https://localhost:8080/"
        },
        "id": "MYydZ_Hvu_wB",
        "outputId": "e9096dbc-1bc5-44d5-b2f0-010d0cbd5396"
      },
      "source": [
        "!conda install -c conda-forge scikit-surprise"
      ],
      "execution_count": 127,
      "outputs": [
        {
          "output_type": "stream",
          "text": [
            "/bin/bash: conda: command not found\n"
          ],
          "name": "stdout"
        }
      ]
    },
    {
      "cell_type": "code",
      "metadata": {
        "id": "dyheE8x_srYQ"
      },
      "source": [
        "import numpy as np\n",
        "import pandas as pd\n",
        "from surprise import SVD\n",
        "from surprise import Dataset\n",
        "from surprise import Reader\n",
        "import pickle\n",
        "from surprise import accuracy\n",
        "from surprise import BaselineOnly\n",
        "from surprise.model_selection import train_test_split"
      ],
      "execution_count": 147,
      "outputs": []
    },
    {
      "cell_type": "code",
      "metadata": {
        "id": "Q2mLb9-kstZw"
      },
      "source": [
        "full_rating = pd.read_csv('/content/drive/My Drive/Data_Science/final_df.csv' )\n",
        "del full_rating['Unnamed: 0']"
      ],
      "execution_count": 129,
      "outputs": []
    },
    {
      "cell_type": "code",
      "metadata": {
        "id": "BKjhdh28PKAh"
      },
      "source": [
        "dff = pd.read_csv('/content/drive/My Drive/Data_Science/Mapping_df.csv' )"
      ],
      "execution_count": 130,
      "outputs": []
    },
    {
      "cell_type": "code",
      "metadata": {
        "colab": {
          "base_uri": "https://localhost:8080/"
        },
        "id": "PdRx3D6LQXhl",
        "outputId": "b2fd559a-23ff-4116-d6f0-54cc927c267f"
      },
      "source": [
        "full_rating.shape"
      ],
      "execution_count": 131,
      "outputs": [
        {
          "output_type": "execute_result",
          "data": {
            "text/plain": [
              "(33669, 3)"
            ]
          },
          "metadata": {
            "tags": []
          },
          "execution_count": 131
        }
      ]
    },
    {
      "cell_type": "code",
      "metadata": {
        "colab": {
          "base_uri": "https://localhost:8080/"
        },
        "id": "8ev6E9poTJwA",
        "outputId": "adab97ba-3192-448e-9200-11669d40beed"
      },
      "source": [
        "len(full_rating.book_id.unique())"
      ],
      "execution_count": 132,
      "outputs": [
        {
          "output_type": "execute_result",
          "data": {
            "text/plain": [
              "714"
            ]
          },
          "metadata": {
            "tags": []
          },
          "execution_count": 132
        }
      ]
    },
    {
      "cell_type": "code",
      "metadata": {
        "colab": {
          "base_uri": "https://localhost:8080/"
        },
        "id": "Cnie9XN6TfQ7",
        "outputId": "4eee7328-4d05-41a0-bf07-29ed5bb3981b"
      },
      "source": [
        "len(dff.title.unique())"
      ],
      "execution_count": 133,
      "outputs": [
        {
          "output_type": "execute_result",
          "data": {
            "text/plain": [
              "714"
            ]
          },
          "metadata": {
            "tags": []
          },
          "execution_count": 133
        }
      ]
    },
    {
      "cell_type": "code",
      "metadata": {
        "colab": {
          "base_uri": "https://localhost:8080/"
        },
        "id": "Xwlrk374QOLg",
        "outputId": "5398655a-c278-41d1-fd07-e0397a9209c6"
      },
      "source": [
        "dff.dtypes"
      ],
      "execution_count": 134,
      "outputs": [
        {
          "output_type": "execute_result",
          "data": {
            "text/plain": [
              "Unnamed: 0      int64\n",
              "article_id    float64\n",
              "title          object\n",
              "dtype: object"
            ]
          },
          "metadata": {
            "tags": []
          },
          "execution_count": 134
        }
      ]
    },
    {
      "cell_type": "code",
      "metadata": {
        "id": "yil1_1zCPWLN"
      },
      "source": [
        "id_to_name = {}\n",
        "list1 = list(dff['article_id'])\n",
        "list2 = list(dff['title'])\n",
        "for i in range(len(list1)-1):\n",
        "    id_to_name[list1[i]] = list2[i] "
      ],
      "execution_count": 135,
      "outputs": []
    },
    {
      "cell_type": "code",
      "metadata": {
        "colab": {
          "base_uri": "https://localhost:8080/"
        },
        "id": "3RvzAG6BP6Bx",
        "outputId": "bb3e6bf8-397e-4f58-fd85-a903c4416523"
      },
      "source": [
        "len(id_to_name)"
      ],
      "execution_count": 136,
      "outputs": [
        {
          "output_type": "execute_result",
          "data": {
            "text/plain": [
              "713"
            ]
          },
          "metadata": {
            "tags": []
          },
          "execution_count": 136
        }
      ]
    },
    {
      "cell_type": "code",
      "metadata": {
        "colab": {
          "base_uri": "https://localhost:8080/",
          "height": 419
        },
        "id": "JIOBGWQ1F_7o",
        "outputId": "ee5690dd-f3b1-4a4e-af54-4ce41951bb25"
      },
      "source": [
        "full_rating"
      ],
      "execution_count": 137,
      "outputs": [
        {
          "output_type": "execute_result",
          "data": {
            "text/html": [
              "<div>\n",
              "<style scoped>\n",
              "    .dataframe tbody tr th:only-of-type {\n",
              "        vertical-align: middle;\n",
              "    }\n",
              "\n",
              "    .dataframe tbody tr th {\n",
              "        vertical-align: top;\n",
              "    }\n",
              "\n",
              "    .dataframe thead th {\n",
              "        text-align: right;\n",
              "    }\n",
              "</style>\n",
              "<table border=\"1\" class=\"dataframe\">\n",
              "  <thead>\n",
              "    <tr style=\"text-align: right;\">\n",
              "      <th></th>\n",
              "      <th>user_id</th>\n",
              "      <th>book_id</th>\n",
              "      <th>rating</th>\n",
              "    </tr>\n",
              "  </thead>\n",
              "  <tbody>\n",
              "    <tr>\n",
              "      <th>0</th>\n",
              "      <td>0000b6387a0366322d7fbfc6434af145adf7fed1</td>\n",
              "      <td>43.0</td>\n",
              "      <td>1</td>\n",
              "    </tr>\n",
              "    <tr>\n",
              "      <th>1</th>\n",
              "      <td>0000b6387a0366322d7fbfc6434af145adf7fed1</td>\n",
              "      <td>124.0</td>\n",
              "      <td>5</td>\n",
              "    </tr>\n",
              "    <tr>\n",
              "      <th>2</th>\n",
              "      <td>0000b6387a0366322d7fbfc6434af145adf7fed1</td>\n",
              "      <td>173.0</td>\n",
              "      <td>5</td>\n",
              "    </tr>\n",
              "    <tr>\n",
              "      <th>3</th>\n",
              "      <td>0000b6387a0366322d7fbfc6434af145adf7fed1</td>\n",
              "      <td>288.0</td>\n",
              "      <td>1</td>\n",
              "    </tr>\n",
              "    <tr>\n",
              "      <th>4</th>\n",
              "      <td>0000b6387a0366322d7fbfc6434af145adf7fed1</td>\n",
              "      <td>349.0</td>\n",
              "      <td>2</td>\n",
              "    </tr>\n",
              "    <tr>\n",
              "      <th>...</th>\n",
              "      <td>...</td>\n",
              "      <td>...</td>\n",
              "      <td>...</td>\n",
              "    </tr>\n",
              "    <tr>\n",
              "      <th>33664</th>\n",
              "      <td>fffb93a166547448a0ff0232558118d59395fecd</td>\n",
              "      <td>981.0</td>\n",
              "      <td>4</td>\n",
              "    </tr>\n",
              "    <tr>\n",
              "      <th>33665</th>\n",
              "      <td>fffb93a166547448a0ff0232558118d59395fecd</td>\n",
              "      <td>1304.0</td>\n",
              "      <td>2</td>\n",
              "    </tr>\n",
              "    <tr>\n",
              "      <th>33666</th>\n",
              "      <td>fffb93a166547448a0ff0232558118d59395fecd</td>\n",
              "      <td>1305.0</td>\n",
              "      <td>0</td>\n",
              "    </tr>\n",
              "    <tr>\n",
              "      <th>33667</th>\n",
              "      <td>fffb93a166547448a0ff0232558118d59395fecd</td>\n",
              "      <td>1430.0</td>\n",
              "      <td>3</td>\n",
              "    </tr>\n",
              "    <tr>\n",
              "      <th>33668</th>\n",
              "      <td>fffb93a166547448a0ff0232558118d59395fecd</td>\n",
              "      <td>1437.0</td>\n",
              "      <td>2</td>\n",
              "    </tr>\n",
              "  </tbody>\n",
              "</table>\n",
              "<p>33669 rows × 3 columns</p>\n",
              "</div>"
            ],
            "text/plain": [
              "                                        user_id  book_id  rating\n",
              "0      0000b6387a0366322d7fbfc6434af145adf7fed1     43.0       1\n",
              "1      0000b6387a0366322d7fbfc6434af145adf7fed1    124.0       5\n",
              "2      0000b6387a0366322d7fbfc6434af145adf7fed1    173.0       5\n",
              "3      0000b6387a0366322d7fbfc6434af145adf7fed1    288.0       1\n",
              "4      0000b6387a0366322d7fbfc6434af145adf7fed1    349.0       2\n",
              "...                                         ...      ...     ...\n",
              "33664  fffb93a166547448a0ff0232558118d59395fecd    981.0       4\n",
              "33665  fffb93a166547448a0ff0232558118d59395fecd   1304.0       2\n",
              "33666  fffb93a166547448a0ff0232558118d59395fecd   1305.0       0\n",
              "33667  fffb93a166547448a0ff0232558118d59395fecd   1430.0       3\n",
              "33668  fffb93a166547448a0ff0232558118d59395fecd   1437.0       2\n",
              "\n",
              "[33669 rows x 3 columns]"
            ]
          },
          "metadata": {
            "tags": []
          },
          "execution_count": 137
        }
      ]
    },
    {
      "cell_type": "code",
      "metadata": {
        "colab": {
          "base_uri": "https://localhost:8080/"
        },
        "id": "mc00sbKZGfgX",
        "outputId": "566d06da-dc89-4a19-9d87-25c382a67458"
      },
      "source": [
        "full_rating.dtypes"
      ],
      "execution_count": 138,
      "outputs": [
        {
          "output_type": "execute_result",
          "data": {
            "text/plain": [
              "user_id     object\n",
              "book_id    float64\n",
              "rating       int64\n",
              "dtype: object"
            ]
          },
          "metadata": {
            "tags": []
          },
          "execution_count": 138
        }
      ]
    },
    {
      "cell_type": "code",
      "metadata": {
        "id": "WsotGyE6EDIG"
      },
      "source": [
        "# Load our data into DataSet class of surprise package\n",
        "reader = Reader(rating_scale=(1, 5))\n",
        "data = Dataset.load_from_df(full_rating[['user_id', 'book_id', 'rating']], reader)"
      ],
      "execution_count": 139,
      "outputs": []
    },
    {
      "cell_type": "code",
      "metadata": {
        "id": "g2XUj5TgEIW2"
      },
      "source": [
        "# split into trainset and testset\n",
        "trainset, testset = train_test_split(data, test_size=.10)\n",
        "train_eval = trainset.build_testset()"
      ],
      "execution_count": 140,
      "outputs": []
    },
    {
      "cell_type": "code",
      "metadata": {
        "colab": {
          "base_uri": "https://localhost:8080/"
        },
        "id": "rqHUozR6EL3p",
        "outputId": "029d652b-703c-474f-bc58-40706e456d8c"
      },
      "source": [
        "# train a Funk SGD-SVD algorithms:\n",
        "epochs = [1, 5, 10, 20, 40, 80, 100, 120, 150]\n",
        "train_mse = []\n",
        "test_mse = []\n",
        "for n_epoch in epochs:\n",
        "    print(\"Number of epochs trained\", n_epoch)\n",
        "    algo = SVD(n_factors = 40, lr_all = 0.001, n_epochs = n_epoch)\n",
        "    algo.fit(trainset)\n",
        "    train_predictions = algo.test(train_eval)\n",
        "    test_predictions = algo.test(testset)\n",
        "    train_mse.append(accuracy.mse(train_predictions))\n",
        "    test_mse.append(accuracy.mse(test_predictions))\n",
        "    print(accuracy.mse(train_predictions), accuracy.mse(test_predictions))"
      ],
      "execution_count": 141,
      "outputs": [
        {
          "output_type": "stream",
          "text": [
            "Number of epochs trained 1\n",
            "MSE: 2.9191\n",
            "MSE: 2.9841\n",
            "MSE: 2.9191\n",
            "MSE: 2.9841\n",
            "2.919085723016623 2.9840625215180094\n",
            "Number of epochs trained 5\n",
            "MSE: 2.8696\n",
            "MSE: 2.9880\n",
            "MSE: 2.8696\n",
            "MSE: 2.9880\n",
            "2.8695632680116865 2.9879558922160734\n",
            "Number of epochs trained 10\n",
            "MSE: 2.8136\n",
            "MSE: 3.0005\n",
            "MSE: 2.8136\n",
            "MSE: 3.0005\n",
            "2.813573557599344 3.0004858122168194\n",
            "Number of epochs trained 20\n",
            "MSE: 2.7290\n",
            "MSE: 3.0155\n",
            "MSE: 2.7290\n",
            "MSE: 3.0155\n",
            "2.728986502241838 3.015496968354516\n",
            "Number of epochs trained 40\n",
            "MSE: 2.5427\n",
            "MSE: 3.0592\n",
            "MSE: 2.5427\n",
            "MSE: 3.0592\n",
            "2.542680228236667 3.0591632522129997\n",
            "Number of epochs trained 80\n",
            "MSE: 1.9667\n",
            "MSE: 3.1275\n",
            "MSE: 1.9667\n",
            "MSE: 3.1275\n",
            "1.9667190169424758 3.1274673531604193\n",
            "Number of epochs trained 100\n",
            "MSE: 1.5884\n",
            "MSE: 3.1984\n",
            "MSE: 1.5884\n",
            "MSE: 3.1984\n",
            "1.5883543659018298 3.198436068061023\n",
            "Number of epochs trained 120\n",
            "MSE: 1.2074\n",
            "MSE: 3.2675\n",
            "MSE: 1.2074\n",
            "MSE: 3.2675\n",
            "1.2073907259624204 3.267456240964681\n",
            "Number of epochs trained 150\n",
            "MSE: 0.8287\n",
            "MSE: 3.3880\n",
            "MSE: 0.8287\n",
            "MSE: 3.3880\n",
            "0.8286739036198774 3.38804409451587\n"
          ],
          "name": "stdout"
        }
      ]
    },
    {
      "cell_type": "code",
      "metadata": {
        "colab": {
          "base_uri": "https://localhost:8080/",
          "height": 308
        },
        "id": "xuFAKgNtEQfk",
        "outputId": "56284472-1369-40d5-bcf8-3f04bc9799a2"
      },
      "source": [
        "def plot_learning_curve(iter_array, train_accuracy, test_accuracy, xlabel = 'iterations'):\n",
        "    plt.plot(iter_array, train_accuracy,\n",
        "             label='Train mse', linewidth=5)\n",
        "    plt.plot(iter_array, test_accuracy,\n",
        "             label='Test mse', linewidth=5)\n",
        "\n",
        "\n",
        "    plt.xticks(fontsize=16);\n",
        "    plt.yticks(fontsize=16);\n",
        "    plt.xlabel(xlabel, fontsize=30);\n",
        "    plt.ylabel('MSE', fontsize=30);\n",
        "    plt.legend(loc='best', fontsize=20);\n",
        "\n",
        "plot_learning_curve(epochs, train_mse, test_mse)"
      ],
      "execution_count": 142,
      "outputs": [
        {
          "output_type": "display_data",
          "data": {
            "image/png": "[encoded data removed]",
            "text/plain": [
              "<Figure size 432x288 with 1 Axes>"
            ]
          },
          "metadata": {
            "tags": [],
            "needs_background": "light"
          }
        }
      ]
    },
    {
      "cell_type": "code",
      "metadata": {
        "colab": {
          "base_uri": "https://localhost:8080/"
        },
        "id": "9q1GiPr3ERiK",
        "outputId": "4506dab6-ca95-49b8-9285-7bcfc482e6e9"
      },
      "source": [
        "#train on a full dataset and make prediction\n",
        "full_trainset = data.build_full_trainset()\n",
        "algo = SVD(n_factors = 40, lr_all = 0.001, verbose=True, n_epochs = 100)\n",
        "algo.fit(full_trainset)"
      ],
      "execution_count": 143,
      "outputs": [
        {
          "output_type": "stream",
          "text": [
            "Processing epoch 0\n",
            "Processing epoch 1\n",
            "Processing epoch 2\n",
            "Processing epoch 3\n",
            "Processing epoch 4\n",
            "Processing epoch 5\n",
            "Processing epoch 6\n",
            "Processing epoch 7\n",
            "Processing epoch 8\n",
            "Processing epoch 9\n",
            "Processing epoch 10\n",
            "Processing epoch 11\n",
            "Processing epoch 12\n",
            "Processing epoch 13\n",
            "Processing epoch 14\n",
            "Processing epoch 15\n",
            "Processing epoch 16\n",
            "Processing epoch 17\n",
            "Processing epoch 18\n",
            "Processing epoch 19\n",
            "Processing epoch 20\n",
            "Processing epoch 21\n",
            "Processing epoch 22\n",
            "Processing epoch 23\n",
            "Processing epoch 24\n",
            "Processing epoch 25\n",
            "Processing epoch 26\n",
            "Processing epoch 27\n",
            "Processing epoch 28\n",
            "Processing epoch 29\n",
            "Processing epoch 30\n",
            "Processing epoch 31\n",
            "Processing epoch 32\n",
            "Processing epoch 33\n",
            "Processing epoch 34\n",
            "Processing epoch 35\n",
            "Processing epoch 36\n",
            "Processing epoch 37\n",
            "Processing epoch 38\n",
            "Processing epoch 39\n",
            "Processing epoch 40\n",
            "Processing epoch 41\n",
            "Processing epoch 42\n",
            "Processing epoch 43\n",
            "Processing epoch 44\n",
            "Processing epoch 45\n",
            "Processing epoch 46\n",
            "Processing epoch 47\n",
            "Processing epoch 48\n",
            "Processing epoch 49\n",
            "Processing epoch 50\n",
            "Processing epoch 51\n",
            "Processing epoch 52\n",
            "Processing epoch 53\n",
            "Processing epoch 54\n",
            "Processing epoch 55\n",
            "Processing epoch 56\n",
            "Processing epoch 57\n",
            "Processing epoch 58\n",
            "Processing epoch 59\n",
            "Processing epoch 60\n",
            "Processing epoch 61\n",
            "Processing epoch 62\n",
            "Processing epoch 63\n",
            "Processing epoch 64\n",
            "Processing epoch 65\n",
            "Processing epoch 66\n",
            "Processing epoch 67\n",
            "Processing epoch 68\n",
            "Processing epoch 69\n",
            "Processing epoch 70\n",
            "Processing epoch 71\n",
            "Processing epoch 72\n",
            "Processing epoch 73\n",
            "Processing epoch 74\n",
            "Processing epoch 75\n",
            "Processing epoch 76\n",
            "Processing epoch 77\n",
            "Processing epoch 78\n",
            "Processing epoch 79\n",
            "Processing epoch 80\n",
            "Processing epoch 81\n",
            "Processing epoch 82\n",
            "Processing epoch 83\n",
            "Processing epoch 84\n",
            "Processing epoch 85\n",
            "Processing epoch 86\n",
            "Processing epoch 87\n",
            "Processing epoch 88\n",
            "Processing epoch 89\n",
            "Processing epoch 90\n",
            "Processing epoch 91\n",
            "Processing epoch 92\n",
            "Processing epoch 93\n",
            "Processing epoch 94\n",
            "Processing epoch 95\n",
            "Processing epoch 96\n",
            "Processing epoch 97\n",
            "Processing epoch 98\n",
            "Processing epoch 99\n"
          ],
          "name": "stdout"
        },
        {
          "output_type": "execute_result",
          "data": {
            "text/plain": [
              "<surprise.prediction_algorithms.matrix_factorization.SVD at 0x7fee55baae10>"
            ]
          },
          "metadata": {
            "tags": []
          },
          "execution_count": 143
        }
      ]
    },
    {
      "cell_type": "code",
      "metadata": {
        "colab": {
          "base_uri": "https://localhost:8080/"
        },
        "id": "xHcJmlNfEUd2",
        "outputId": "d111ce0c-6e7a-4dff-f8c7-ffb4da41917c"
      },
      "source": [
        "# make prediction:\n",
        "all_book_id = full_rating.book_id.unique()\n",
        "top_n = []\n",
        "for book_id in all_book_id:\n",
        "    top_n.append(algo.predict(uid = 124, iid = book_id))\n",
        "    top_n.sort(key=lambda x: x.est, reverse=True)\n",
        "print([id_to_name[pred.iid] for pred in top_n[:10]])"
      ],
      "execution_count": 144,
      "outputs": [
        {
          "output_type": "stream",
          "text": [
            "['why even a moth’s brain is smarter than an ai', 'time series analysis using max/min and neuroscience', 'making data cleaning simple with the sparkling.data library', 'this week in data science (february 28, 2017)', '9 mistakes to avoid when starting your career in data science', 'spark sql - rapid performance evolution', 'detect malfunctioning iot sensors with streaming analytics', 'data visualization with ggplot2 cheat sheet', 'airbnb data for analytics: washington d.c. listings', 'tidyr 0.6.0']\n"
          ],
          "name": "stdout"
        }
      ]
    },
    {
      "cell_type": "code",
      "metadata": {
        "id": "mm6cIyF8EKqZ"
      },
      "source": [
        "pickle.dump(algo, open(\"algo.pkl\", \"wb\"))"
      ],
      "execution_count": 148,
      "outputs": []
    },
    {
      "cell_type": "code",
      "metadata": {
        "id": "ciNlMewsX9ku"
      },
      "source": [
        ""
      ],
      "execution_count": null,
      "outputs": []
    }
  ]
}