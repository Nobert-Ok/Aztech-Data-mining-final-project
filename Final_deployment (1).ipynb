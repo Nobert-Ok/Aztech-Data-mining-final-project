{
  "nbformat": 4,
  "nbformat_minor": 0,
  "metadata": {
    "colab": {
      "name": "Final_deployment.ipynb",
      "provenance": []
    },
    "kernelspec": {
      "name": "python3",
      "display_name": "Python 3"
    },
    "language_info": {
      "name": "python"
    }
  },
  "cells": [
    {
      "cell_type": "code",
      "metadata": {
        "colab": {
          "base_uri": "https://localhost:8080/"
        },
        "id": "12_mrhJBsmdX",
        "outputId": "f9c49fac-7845-4da0-fbf4-81b17d8385cc"
      },
      "source": [
        "from google.colab import drive\n",
        "drive.mount(\"/content/drive\")"
      ],
      "execution_count": 1,
      "outputs": [
        {
          "output_type": "stream",
          "text": [
            "Mounted at /content/drive\n"
          ],
          "name": "stdout"
        }
      ]
    },
    {
      "cell_type": "code",
      "metadata": {
        "colab": {
          "base_uri": "https://localhost:8080/"
        },
        "id": "hDYzvgqTu5pq",
        "outputId": "7467b90b-5db8-4e90-f33d-bc0fa03f982b"
      },
      "source": [
        "!pip install numpy\n",
        "!pip install scikit-surprise"
      ],
      "execution_count": 2,
      "outputs": [
        {
          "output_type": "stream",
          "text": [
            "Requirement already satisfied: numpy in /usr/local/lib/python3.7/dist-packages (1.19.5)\n",
            "Collecting scikit-surprise\n",
            "\u001b[?25l  Downloading https://files.pythonhosted.org/packages/97/37/5d334adaf5ddd65da99fc65f6507e0e4599d092ba048f4302fe8775619e8/scikit-surprise-1.1.1.tar.gz (11.8MB)\n",
            "\u001b[K     |████████████████████████████████| 11.8MB 3.8MB/s \n",
            "\u001b[?25hRequirement already satisfied: joblib>=0.11 in /usr/local/lib/python3.7/dist-packages (from scikit-surprise) (1.0.1)\n",
            "Requirement already satisfied: numpy>=1.11.2 in /usr/local/lib/python3.7/dist-packages (from scikit-surprise) (1.19.5)\n",
            "Requirement already satisfied: scipy>=1.0.0 in /usr/local/lib/python3.7/dist-packages (from scikit-surprise) (1.4.1)\n",
            "Requirement already satisfied: six>=1.10.0 in /usr/local/lib/python3.7/dist-packages (from scikit-surprise) (1.15.0)\n",
            "Building wheels for collected packages: scikit-surprise\n",
            "  Building wheel for scikit-surprise (setup.py) ... \u001b[?25l\u001b[?25hdone\n",
            "  Created wheel for scikit-surprise: filename=scikit_surprise-1.1.1-cp37-cp37m-linux_x86_64.whl size=1617547 sha256=a43a85ae61a5ff86133822d8eeffab7a9bb99d4e13fcd89b40cde2c04cc9e553\n",
            "  Stored in directory: /root/.cache/pip/wheels/78/9c/3d/41b419c9d2aff5b6e2b4c0fc8d25c538202834058f9ed110d0\n",
            "Successfully built scikit-surprise\n",
            "Installing collected packages: scikit-surprise\n",
            "Successfully installed scikit-surprise-1.1.1\n"
          ],
          "name": "stdout"
        }
      ]
    },
    {
      "cell_type": "code",
      "metadata": {
        "colab": {
          "base_uri": "https://localhost:8080/"
        },
        "id": "MYydZ_Hvu_wB",
        "outputId": "d79a6f87-569e-4458-e73d-ca34a5881dc4"
      },
      "source": [
        "!conda install -c conda-forge scikit-surprise"
      ],
      "execution_count": 3,
      "outputs": [
        {
          "output_type": "stream",
          "text": [
            "/bin/bash: conda: command not found\n"
          ],
          "name": "stdout"
        }
      ]
    },
    {
      "cell_type": "code",
      "metadata": {
        "id": "dyheE8x_srYQ"
      },
      "source": [
        "import numpy as np\n",
        "import pandas as pd\n",
        "import matplotlib.pyplot as plt\n",
        "from surprise import SVD\n",
        "from surprise import Dataset\n",
        "from surprise import Reader\n",
        "import pickle\n",
        "from surprise import accuracy\n",
        "from surprise import BaselineOnly\n",
        "from surprise.model_selection import train_test_split"
      ],
      "execution_count": 20,
      "outputs": []
    },
    {
      "cell_type": "code",
      "metadata": {
        "id": "Q2mLb9-kstZw",
        "colab": {
          "base_uri": "https://localhost:8080/",
          "height": 204
        },
        "outputId": "6ba2ba3f-2c80-4b9d-f699-0678c2f051a4"
      },
      "source": [
        "full_rating = pd.read_csv('/content/drive/My Drive/Data_Science/full_rating_dataframe.csv' )\n",
        "del full_rating['Unnamed: 0']\n",
        "full_rating.head()"
      ],
      "execution_count": 51,
      "outputs": [
        {
          "output_type": "execute_result",
          "data": {
            "text/html": [
              "<div>\n",
              "<style scoped>\n",
              "    .dataframe tbody tr th:only-of-type {\n",
              "        vertical-align: middle;\n",
              "    }\n",
              "\n",
              "    .dataframe tbody tr th {\n",
              "        vertical-align: top;\n",
              "    }\n",
              "\n",
              "    .dataframe thead th {\n",
              "        text-align: right;\n",
              "    }\n",
              "</style>\n",
              "<table border=\"1\" class=\"dataframe\">\n",
              "  <thead>\n",
              "    <tr style=\"text-align: right;\">\n",
              "      <th></th>\n",
              "      <th>user_id</th>\n",
              "      <th>book_id</th>\n",
              "      <th>rating</th>\n",
              "    </tr>\n",
              "  </thead>\n",
              "  <tbody>\n",
              "    <tr>\n",
              "      <th>0</th>\n",
              "      <td>1</td>\n",
              "      <td>43.0</td>\n",
              "      <td>3</td>\n",
              "    </tr>\n",
              "    <tr>\n",
              "      <th>1</th>\n",
              "      <td>1</td>\n",
              "      <td>109.0</td>\n",
              "      <td>2</td>\n",
              "    </tr>\n",
              "    <tr>\n",
              "      <th>2</th>\n",
              "      <td>1</td>\n",
              "      <td>151.0</td>\n",
              "      <td>1</td>\n",
              "    </tr>\n",
              "    <tr>\n",
              "      <th>3</th>\n",
              "      <td>1</td>\n",
              "      <td>268.0</td>\n",
              "      <td>4</td>\n",
              "    </tr>\n",
              "    <tr>\n",
              "      <th>4</th>\n",
              "      <td>1</td>\n",
              "      <td>310.0</td>\n",
              "      <td>3</td>\n",
              "    </tr>\n",
              "  </tbody>\n",
              "</table>\n",
              "</div>"
            ],
            "text/plain": [
              "   user_id  book_id  rating\n",
              "0        1     43.0       3\n",
              "1        1    109.0       2\n",
              "2        1    151.0       1\n",
              "3        1    268.0       4\n",
              "4        1    310.0       3"
            ]
          },
          "metadata": {
            "tags": []
          },
          "execution_count": 51
        }
      ]
    },
    {
      "cell_type": "code",
      "metadata": {
        "colab": {
          "base_uri": "https://localhost:8080/"
        },
        "id": "mh16QrkBgwnI",
        "outputId": "691e1804-0173-49a7-8d80-9f1315e44c5d"
      },
      "source": [
        "len(full_rating['book_id'].unique())"
      ],
      "execution_count": 52,
      "outputs": [
        {
          "output_type": "execute_result",
          "data": {
            "text/plain": [
              "714"
            ]
          },
          "metadata": {
            "tags": []
          },
          "execution_count": 52
        }
      ]
    },
    {
      "cell_type": "code",
      "metadata": {
        "id": "BKjhdh28PKAh",
        "colab": {
          "base_uri": "https://localhost:8080/",
          "height": 204
        },
        "outputId": "01941c69-87a2-483f-ad1c-e5dae67f5a6a"
      },
      "source": [
        "dff = pd.read_csv('/content/drive/My Drive/Data_Science/Mapping_df.csv' )\n",
        "del dff['Unnamed: 0']\n",
        "dff.head()"
      ],
      "execution_count": 53,
      "outputs": [
        {
          "output_type": "execute_result",
          "data": {
            "text/html": [
              "<div>\n",
              "<style scoped>\n",
              "    .dataframe tbody tr th:only-of-type {\n",
              "        vertical-align: middle;\n",
              "    }\n",
              "\n",
              "    .dataframe tbody tr th {\n",
              "        vertical-align: top;\n",
              "    }\n",
              "\n",
              "    .dataframe thead th {\n",
              "        text-align: right;\n",
              "    }\n",
              "</style>\n",
              "<table border=\"1\" class=\"dataframe\">\n",
              "  <thead>\n",
              "    <tr style=\"text-align: right;\">\n",
              "      <th></th>\n",
              "      <th>article_id</th>\n",
              "      <th>title</th>\n",
              "    </tr>\n",
              "  </thead>\n",
              "  <tbody>\n",
              "    <tr>\n",
              "      <th>0</th>\n",
              "      <td>0.0</td>\n",
              "      <td>detect malfunctioning iot sensors with streami...</td>\n",
              "    </tr>\n",
              "    <tr>\n",
              "      <th>1</th>\n",
              "      <td>2.0</td>\n",
              "      <td>this week in data science (april 18, 2017)</td>\n",
              "    </tr>\n",
              "    <tr>\n",
              "      <th>2</th>\n",
              "      <td>4.0</td>\n",
              "      <td>analyze ny restaurant data using spark in dsx</td>\n",
              "    </tr>\n",
              "    <tr>\n",
              "      <th>3</th>\n",
              "      <td>8.0</td>\n",
              "      <td>data science bowl 2017</td>\n",
              "    </tr>\n",
              "    <tr>\n",
              "      <th>4</th>\n",
              "      <td>9.0</td>\n",
              "      <td>3992    using apache spark to predict attack v...</td>\n",
              "    </tr>\n",
              "  </tbody>\n",
              "</table>\n",
              "</div>"
            ],
            "text/plain": [
              "   article_id                                              title\n",
              "0         0.0  detect malfunctioning iot sensors with streami...\n",
              "1         2.0         this week in data science (april 18, 2017)\n",
              "2         4.0      analyze ny restaurant data using spark in dsx\n",
              "3         8.0                             data science bowl 2017\n",
              "4         9.0  3992    using apache spark to predict attack v..."
            ]
          },
          "metadata": {
            "tags": []
          },
          "execution_count": 53
        }
      ]
    },
    {
      "cell_type": "code",
      "metadata": {
        "colab": {
          "base_uri": "https://localhost:8080/"
        },
        "id": "-HPWzACAg-vN",
        "outputId": "76997ed6-bb0d-4ea2-b0d6-7486b25223e3"
      },
      "source": [
        "len(dff['article_id'].unique())"
      ],
      "execution_count": 54,
      "outputs": [
        {
          "output_type": "execute_result",
          "data": {
            "text/plain": [
              "714"
            ]
          },
          "metadata": {
            "tags": []
          },
          "execution_count": 54
        }
      ]
    },
    {
      "cell_type": "code",
      "metadata": {
        "id": "yil1_1zCPWLN"
      },
      "source": [
        "id_to_name = {}\n",
        "list1 = list(dff['article_id'])\n",
        "list2 = list(dff['title'])\n",
        "for i in range(len(list1)-1):\n",
        "    id_to_name[list1[i]] = list2[i] "
      ],
      "execution_count": 55,
      "outputs": []
    },
    {
      "cell_type": "code",
      "metadata": {
        "id": "WsotGyE6EDIG"
      },
      "source": [
        "# Load our data into DataSet class of surprise package\n",
        "reader = Reader(rating_scale=(1, 5))\n",
        "data = Dataset.load_from_df(full_rating[['user_id', 'book_id', 'rating']], reader)"
      ],
      "execution_count": 56,
      "outputs": []
    },
    {
      "cell_type": "code",
      "metadata": {
        "id": "g2XUj5TgEIW2"
      },
      "source": [
        "# split into trainset and testset\n",
        "trainset, testset = train_test_split(data, test_size=.10)\n",
        "train_eval = trainset.build_testset()"
      ],
      "execution_count": 57,
      "outputs": []
    },
    {
      "cell_type": "code",
      "metadata": {
        "colab": {
          "base_uri": "https://localhost:8080/"
        },
        "id": "rqHUozR6EL3p",
        "outputId": "942ade96-65c8-483a-b48b-6532902b965a"
      },
      "source": [
        "# train a Funk SGD-SVD algorithms:\n",
        "epochs = [1, 5, 10, 20, 40, 80, 100, 120, 150]\n",
        "train_mse = []\n",
        "test_mse = []\n",
        "for n_epoch in epochs:\n",
        "    print(\"Number of epochs trained\", n_epoch)\n",
        "    algo = SVD(n_factors = 40, lr_all = 0.001, n_epochs = n_epoch)\n",
        "    algo.fit(trainset)\n",
        "    train_predictions = algo.test(train_eval)\n",
        "    test_predictions = algo.test(testset)\n",
        "    train_mse.append(accuracy.mse(train_predictions))\n",
        "    test_mse.append(accuracy.mse(test_predictions))\n",
        "    print(accuracy.mse(train_predictions), accuracy.mse(test_predictions))"
      ],
      "execution_count": 58,
      "outputs": [
        {
          "output_type": "stream",
          "text": [
            "Number of epochs trained 1\n",
            "MSE: 2.8939\n",
            "MSE: 2.9364\n",
            "MSE: 2.8939\n",
            "MSE: 2.9364\n",
            "2.8938693878701676 2.9363651519572613\n",
            "Number of epochs trained 5\n",
            "MSE: 2.8424\n",
            "MSE: 2.9455\n",
            "MSE: 2.8424\n",
            "MSE: 2.9455\n",
            "2.8424101932517236 2.9455264058628776\n",
            "Number of epochs trained 10\n",
            "MSE: 2.7884\n",
            "MSE: 2.9541\n",
            "MSE: 2.7884\n",
            "MSE: 2.9541\n",
            "2.788405495528064 2.954132913295498\n",
            "Number of epochs trained 20\n",
            "MSE: 2.6992\n",
            "MSE: 2.9733\n",
            "MSE: 2.6992\n",
            "MSE: 2.9733\n",
            "2.699249546557798 2.9733181823324597\n",
            "Number of epochs trained 40\n",
            "MSE: 2.5225\n",
            "MSE: 3.0094\n",
            "MSE: 2.5225\n",
            "MSE: 3.0094\n",
            "2.522545014618001 3.009364960775416\n",
            "Number of epochs trained 80\n",
            "MSE: 1.9421\n",
            "MSE: 3.1061\n",
            "MSE: 1.9421\n",
            "MSE: 3.1061\n",
            "1.9421127261172293 3.106085140168218\n",
            "Number of epochs trained 100\n",
            "MSE: 1.5611\n",
            "MSE: 3.1452\n",
            "MSE: 1.5611\n",
            "MSE: 3.1452\n",
            "1.5611348144225816 3.1451759253619205\n",
            "Number of epochs trained 120\n",
            "MSE: 1.2094\n",
            "MSE: 3.2458\n",
            "MSE: 1.2094\n",
            "MSE: 3.2458\n",
            "1.20943447302858 3.245788843726028\n",
            "Number of epochs trained 150\n",
            "MSE: 0.8238\n",
            "MSE: 3.3666\n",
            "MSE: 0.8238\n",
            "MSE: 3.3666\n",
            "0.8238237720669561 3.3666431150593157\n"
          ],
          "name": "stdout"
        }
      ]
    },
    {
      "cell_type": "code",
      "metadata": {
        "colab": {
          "base_uri": "https://localhost:8080/",
          "height": 303
        },
        "id": "xuFAKgNtEQfk",
        "outputId": "b248c3c7-12cf-4647-dfad-6aac7f9c526d"
      },
      "source": [
        "def plot_learning_curve(iter_array, train_accuracy, test_accuracy, xlabel = 'iterations'):\n",
        "    plt.plot(iter_array, train_accuracy,\n",
        "             label='Train mse', linewidth=5)\n",
        "    plt.plot(iter_array, test_accuracy,\n",
        "             label='Test mse', linewidth=5)\n",
        "\n",
        "\n",
        "    plt.xticks(fontsize=16);\n",
        "    plt.yticks(fontsize=16);\n",
        "    plt.xlabel(xlabel, fontsize=30);\n",
        "    plt.ylabel('MSE', fontsize=30);\n",
        "    plt.legend(loc='best', fontsize=20);\n",
        "\n",
        "plot_learning_curve(epochs, train_mse, test_mse)"
      ],
      "execution_count": 59,
      "outputs": [
        {
          "output_type": "display_data",
          "data": {
            "image/png": "[encoded data removed]",
            "text/plain": [
              "<Figure size 432x288 with 1 Axes>"
            ]
          },
          "metadata": {
            "tags": [],
            "needs_background": "light"
          }
        }
      ]
    },
    {
      "cell_type": "code",
      "metadata": {
        "colab": {
          "base_uri": "https://localhost:8080/"
        },
        "id": "9q1GiPr3ERiK",
        "outputId": "680cdc17-980b-4586-fc64-b828cd1d3e06"
      },
      "source": [
        "#train on a full dataset and make prediction\n",
        "full_trainset = data.build_full_trainset()\n",
        "algo = SVD(n_factors = 40, lr_all = 0.001, verbose=True, n_epochs = 100)\n",
        "algo.fit(full_trainset)"
      ],
      "execution_count": 60,
      "outputs": [
        {
          "output_type": "stream",
          "text": [
            "Processing epoch 0\n",
            "Processing epoch 1\n",
            "Processing epoch 2\n",
            "Processing epoch 3\n",
            "Processing epoch 4\n",
            "Processing epoch 5\n",
            "Processing epoch 6\n",
            "Processing epoch 7\n",
            "Processing epoch 8\n",
            "Processing epoch 9\n",
            "Processing epoch 10\n",
            "Processing epoch 11\n",
            "Processing epoch 12\n",
            "Processing epoch 13\n",
            "Processing epoch 14\n",
            "Processing epoch 15\n",
            "Processing epoch 16\n",
            "Processing epoch 17\n",
            "Processing epoch 18\n",
            "Processing epoch 19\n",
            "Processing epoch 20\n",
            "Processing epoch 21\n",
            "Processing epoch 22\n",
            "Processing epoch 23\n",
            "Processing epoch 24\n",
            "Processing epoch 25\n",
            "Processing epoch 26\n",
            "Processing epoch 27\n",
            "Processing epoch 28\n",
            "Processing epoch 29\n",
            "Processing epoch 30\n",
            "Processing epoch 31\n",
            "Processing epoch 32\n",
            "Processing epoch 33\n",
            "Processing epoch 34\n",
            "Processing epoch 35\n",
            "Processing epoch 36\n",
            "Processing epoch 37\n",
            "Processing epoch 38\n",
            "Processing epoch 39\n",
            "Processing epoch 40\n",
            "Processing epoch 41\n",
            "Processing epoch 42\n",
            "Processing epoch 43\n",
            "Processing epoch 44\n",
            "Processing epoch 45\n",
            "Processing epoch 46\n",
            "Processing epoch 47\n",
            "Processing epoch 48\n",
            "Processing epoch 49\n",
            "Processing epoch 50\n",
            "Processing epoch 51\n",
            "Processing epoch 52\n",
            "Processing epoch 53\n",
            "Processing epoch 54\n",
            "Processing epoch 55\n",
            "Processing epoch 56\n",
            "Processing epoch 57\n",
            "Processing epoch 58\n",
            "Processing epoch 59\n",
            "Processing epoch 60\n",
            "Processing epoch 61\n",
            "Processing epoch 62\n",
            "Processing epoch 63\n",
            "Processing epoch 64\n",
            "Processing epoch 65\n",
            "Processing epoch 66\n",
            "Processing epoch 67\n",
            "Processing epoch 68\n",
            "Processing epoch 69\n",
            "Processing epoch 70\n",
            "Processing epoch 71\n",
            "Processing epoch 72\n",
            "Processing epoch 73\n",
            "Processing epoch 74\n",
            "Processing epoch 75\n",
            "Processing epoch 76\n",
            "Processing epoch 77\n",
            "Processing epoch 78\n",
            "Processing epoch 79\n",
            "Processing epoch 80\n",
            "Processing epoch 81\n",
            "Processing epoch 82\n",
            "Processing epoch 83\n",
            "Processing epoch 84\n",
            "Processing epoch 85\n",
            "Processing epoch 86\n",
            "Processing epoch 87\n",
            "Processing epoch 88\n",
            "Processing epoch 89\n",
            "Processing epoch 90\n",
            "Processing epoch 91\n",
            "Processing epoch 92\n",
            "Processing epoch 93\n",
            "Processing epoch 94\n",
            "Processing epoch 95\n",
            "Processing epoch 96\n",
            "Processing epoch 97\n",
            "Processing epoch 98\n",
            "Processing epoch 99\n"
          ],
          "name": "stdout"
        },
        {
          "output_type": "execute_result",
          "data": {
            "text/plain": [
              "<surprise.prediction_algorithms.matrix_factorization.SVD at 0x7f17d7aa5050>"
            ]
          },
          "metadata": {
            "tags": []
          },
          "execution_count": 60
        }
      ]
    },
    {
      "cell_type": "code",
      "metadata": {
        "colab": {
          "base_uri": "https://localhost:8080/"
        },
        "id": "xHcJmlNfEUd2",
        "outputId": "81cca0b9-13ff-4add-e4ec-f8f373e68720"
      },
      "source": [
        "# make prediction:\n",
        "all_book_id = full_rating.book_id.unique()\n",
        "top_n = []\n",
        "for book_id in all_book_id:\n",
        "    top_n.append(algo.predict(uid = 500\t, iid = book_id))\n",
        "    top_n.sort(key=lambda x: x.est, reverse=True)\n",
        "print([id_to_name[pred.iid] for pred in top_n[:10]])"
      ],
      "execution_count": 63,
      "outputs": [
        {
          "output_type": "stream",
          "text": [
            "['percentage of internet users by country', 'poverty (2015): united states demographic measures', 'blogging with brunel', 'this week in data science (july 26, 2016)', 'consumer prices', 'ibm cloud sql query', 'best practices for custom models in watson visual recognition', 'transfer learning for flight delay prediction via variational autoencoders', 'data science of variable selection', 'the art of side effects: curing apache spark streaming’s amnesia (part 1/2)']\n"
          ],
          "name": "stdout"
        }
      ]
    },
    {
      "cell_type": "code",
      "metadata": {
        "id": "mm6cIyF8EKqZ"
      },
      "source": [
        "pickle.dump(algo, open(\"final_algo.pkl\", \"wb\"))"
      ],
      "execution_count": 64,
      "outputs": []
    },
    {
      "cell_type": "code",
      "metadata": {
        "id": "ciNlMewsX9ku"
      },
      "source": [
        "list(full_rating['user_id'].unique())"
      ],
      "execution_count": null,
      "outputs": []
    },
    {
      "cell_type": "code",
      "metadata": {
        "id": "gtT9b5ftcYNp"
      },
      "source": [
        ""
      ],
      "execution_count": null,
      "outputs": []
    }
  ]
}